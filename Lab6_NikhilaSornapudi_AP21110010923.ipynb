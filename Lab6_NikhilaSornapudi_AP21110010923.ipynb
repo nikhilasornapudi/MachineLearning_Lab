{
  "nbformat": 4,
  "nbformat_minor": 0,
  "metadata": {
    "colab": {
      "provenance": []
    },
    "kernelspec": {
      "name": "python3",
      "display_name": "Python 3"
    },
    "language_info": {
      "name": "python"
    }
  },
  "cells": [
    {
      "cell_type": "code",
      "execution_count": null,
      "metadata": {
        "id": "xoSfjgTnOtlk"
      },
      "outputs": [],
      "source": [
        "import pandas as pd\n",
        "from sklearn.model_selection import train_test_split\n",
        "from sklearn.tree import DecisionTreeClassifier\n",
        "from sklearn import metrics"
      ]
    },
    {
      "cell_type": "code",
      "source": [
        "pip install ucimlrepo"
      ],
      "metadata": {
        "colab": {
          "base_uri": "https://localhost:8080/"
        },
        "id": "KVeAMLBuOwWK",
        "outputId": "0c66d1e6-5bc9-4a9a-9088-a8a6f9c4dc7f"
      },
      "execution_count": null,
      "outputs": [
        {
          "output_type": "stream",
          "name": "stdout",
          "text": [
            "Collecting ucimlrepo\n",
            "  Downloading ucimlrepo-0.0.3-py3-none-any.whl (7.0 kB)\n",
            "Installing collected packages: ucimlrepo\n",
            "Successfully installed ucimlrepo-0.0.3\n"
          ]
        }
      ]
    },
    {
      "cell_type": "code",
      "source": [
        "from ucimlrepo import fetch_ucirepo\n",
        "\n",
        "# fetch dataset\n",
        "iris = fetch_ucirepo(id=53)\n",
        "\n",
        "# data (as pandas dataframes)\n",
        "X = iris.data.features\n",
        "y = iris.data.targets\n",
        "\n",
        "# metadata\n",
        "print(iris.metadata)\n",
        "\n",
        "# variable information\n",
        "print(iris.variables)"
      ],
      "metadata": {
        "colab": {
          "base_uri": "https://localhost:8080/"
        },
        "id": "Ni1m7QxlO0my",
        "outputId": "4c9adfb4-4fc9-4e9a-f68f-b4148f18dbe0"
      },
      "execution_count": null,
      "outputs": [
        {
          "output_type": "stream",
          "name": "stdout",
          "text": [
            "{'uci_id': 53, 'name': 'Iris', 'repository_url': 'https://archive.ics.uci.edu/dataset/53/iris', 'data_url': 'https://archive.ics.uci.edu/static/public/53/data.csv', 'abstract': 'A small classic dataset from Fisher, 1936. One of the earliest known datasets used for evaluating classification methods.\\n', 'area': 'Biology', 'tasks': ['Classification'], 'characteristics': ['Tabular'], 'num_instances': 150, 'num_features': 4, 'feature_types': ['Real'], 'demographics': [], 'target_col': ['class'], 'index_col': None, 'has_missing_values': 'no', 'missing_values_symbol': None, 'year_of_dataset_creation': 1936, 'last_updated': 'Tue Sep 12 2023', 'dataset_doi': '10.24432/C56C76', 'creators': ['R. A. Fisher'], 'intro_paper': {'title': 'The Iris data set: In search of the source of virginica', 'authors': 'A. Unwin, K. Kleinman', 'published_in': 'Significance, 2021', 'year': 2021, 'url': 'https://www.semanticscholar.org/paper/4599862ea877863669a6a8e63a3c707a787d5d7e', 'doi': '1740-9713.01589'}, 'additional_info': {'summary': 'This is one of the earliest datasets used in the literature on classification methods and widely used in statistics and machine learning.  The data set contains 3 classes of 50 instances each, where each class refers to a type of iris plant.  One class is linearly separable from the other 2; the latter are not linearly separable from each other.\\n\\nPredicted attribute: class of iris plant.\\n\\nThis is an exceedingly simple domain.\\n\\nThis data differs from the data presented in Fishers article (identified by Steve Chadwick,  spchadwick@espeedaz.net ).  The 35th sample should be: 4.9,3.1,1.5,0.2,\"Iris-setosa\" where the error is in the fourth feature. The 38th sample: 4.9,3.6,1.4,0.1,\"Iris-setosa\" where the errors are in the second and third features.  ', 'purpose': 'N/A', 'funded_by': None, 'instances_represent': 'Each instance is a plant', 'recommended_data_splits': None, 'sensitive_data': None, 'preprocessing_description': None, 'variable_info': None, 'citation': None}}\n",
            "           name     role         type demographic  \\\n",
            "0  sepal length  Feature   Continuous        None   \n",
            "1   sepal width  Feature   Continuous        None   \n",
            "2  petal length  Feature   Continuous        None   \n",
            "3   petal width  Feature   Continuous        None   \n",
            "4         class   Target  Categorical        None   \n",
            "\n",
            "                                         description units missing_values  \n",
            "0                                               None    cm             no  \n",
            "1                                               None    cm             no  \n",
            "2                                               None    cm             no  \n",
            "3                                               None    cm             no  \n",
            "4  class of iris plant: Iris Setosa, Iris Versico...  None             no  \n"
          ]
        }
      ]
    },
    {
      "cell_type": "code",
      "source": [
        "url = \"https://archive.ics.uci.edu/static/public/53/data.csv\"\n",
        "df = pd.read_csv(url)"
      ],
      "metadata": {
        "id": "FsY1aYeeO4Wh"
      },
      "execution_count": null,
      "outputs": []
    },
    {
      "cell_type": "code",
      "source": [
        "X = df.drop(columns=['class'])  # Features are all columns except 'class'\n",
        "y = df['class']"
      ],
      "metadata": {
        "id": "q0MxXFcjPqmr"
      },
      "execution_count": null,
      "outputs": []
    },
    {
      "cell_type": "code",
      "source": [
        "print(\"Shape of X:\", X.shape)\n",
        "print(\"Shape of y:\", y.shape)"
      ],
      "metadata": {
        "colab": {
          "base_uri": "https://localhost:8080/"
        },
        "id": "7ySTei0rPs7m",
        "outputId": "e8b7aedd-7f24-40db-944b-cca02c91170a"
      },
      "execution_count": null,
      "outputs": [
        {
          "output_type": "stream",
          "name": "stdout",
          "text": [
            "Shape of X: (150, 4)\n",
            "Shape of y: (150,)\n"
          ]
        }
      ]
    },
    {
      "cell_type": "code",
      "source": [
        "print(\"\\nFirst few rows of X:\")\n",
        "print(X.head())"
      ],
      "metadata": {
        "colab": {
          "base_uri": "https://localhost:8080/"
        },
        "id": "CpOe_DXAPwE2",
        "outputId": "0105519f-f276-4e0f-bc53-dbc56b03befc"
      },
      "execution_count": null,
      "outputs": [
        {
          "output_type": "stream",
          "name": "stdout",
          "text": [
            "\n",
            "First few rows of X:\n",
            "   sepal length  sepal width  petal length  petal width\n",
            "0           5.1          3.5           1.4          0.2\n",
            "1           4.9          3.0           1.4          0.2\n",
            "2           4.7          3.2           1.3          0.2\n",
            "3           4.6          3.1           1.5          0.2\n",
            "4           5.0          3.6           1.4          0.2\n"
          ]
        }
      ]
    },
    {
      "cell_type": "code",
      "source": [
        "print(\"\\nFirst few rows of y:\")\n",
        "print(y.head())"
      ],
      "metadata": {
        "colab": {
          "base_uri": "https://localhost:8080/"
        },
        "id": "72jrWu2BPyQx",
        "outputId": "76c3f59a-c22b-4274-ca7d-feadfd552d22"
      },
      "execution_count": null,
      "outputs": [
        {
          "output_type": "stream",
          "name": "stdout",
          "text": [
            "\n",
            "First few rows of y:\n",
            "0    Iris-setosa\n",
            "1    Iris-setosa\n",
            "2    Iris-setosa\n",
            "3    Iris-setosa\n",
            "4    Iris-setosa\n",
            "Name: class, dtype: object\n"
          ]
        }
      ]
    },
    {
      "cell_type": "code",
      "source": [
        "import numpy as np"
      ],
      "metadata": {
        "id": "gYHmLXOsP0dj"
      },
      "execution_count": null,
      "outputs": []
    },
    {
      "cell_type": "code",
      "source": [
        "X_train, X_test, y_train, y_test = train_test_split(X, y, test_size=0.2, random_state=42)\n",
        "\n",
        "# Print the shapes to verify\n",
        "print(\"Shape of X_train:\", X_train.shape)\n",
        "print(\"Shape of X_test:\", X_test.shape)\n",
        "print(\"Shape of y_train:\", y_train.shape)\n",
        "print(\"Shape of y_test:\", y_test.shape)"
      ],
      "metadata": {
        "colab": {
          "base_uri": "https://localhost:8080/"
        },
        "id": "DOoFG2NfP-fk",
        "outputId": "3b74fa3f-ff39-4397-f10c-689a0ff7ce20"
      },
      "execution_count": null,
      "outputs": [
        {
          "output_type": "stream",
          "name": "stdout",
          "text": [
            "Shape of X_train: (120, 4)\n",
            "Shape of X_test: (30, 4)\n",
            "Shape of y_train: (120,)\n",
            "Shape of y_test: (30,)\n"
          ]
        }
      ]
    },
    {
      "cell_type": "code",
      "source": [
        "print(\"\\nFirst few rows of X_train:\")\n",
        "print(X_train.head())\n",
        "\n",
        "print(\"\\nFirst few rows of X_test:\")\n",
        "print(X_test.head())\n",
        "\n",
        "print(\"\\nFirst few rows of y_train:\")\n",
        "print(y_train.head())\n",
        "\n",
        "print(\"\\nFirst few rows of y_test:\")\n",
        "print(y_test.head())"
      ],
      "metadata": {
        "colab": {
          "base_uri": "https://localhost:8080/"
        },
        "id": "lswg5iX3QfkA",
        "outputId": "6d40c373-a395-46f2-adab-9b0fe1aefd52"
      },
      "execution_count": null,
      "outputs": [
        {
          "output_type": "stream",
          "name": "stdout",
          "text": [
            "\n",
            "First few rows of X_train:\n",
            "    sepal length  sepal width  petal length  petal width\n",
            "22           4.6          3.6           1.0          0.2\n",
            "15           5.7          4.4           1.5          0.4\n",
            "65           6.7          3.1           4.4          1.4\n",
            "11           4.8          3.4           1.6          0.2\n",
            "42           4.4          3.2           1.3          0.2\n",
            "\n",
            "First few rows of X_test:\n",
            "     sepal length  sepal width  petal length  petal width\n",
            "73            6.1          2.8           4.7          1.2\n",
            "18            5.7          3.8           1.7          0.3\n",
            "118           7.7          2.6           6.9          2.3\n",
            "78            6.0          2.9           4.5          1.5\n",
            "76            6.8          2.8           4.8          1.4\n",
            "\n",
            "First few rows of y_train:\n",
            "22        Iris-setosa\n",
            "15        Iris-setosa\n",
            "65    Iris-versicolor\n",
            "11        Iris-setosa\n",
            "42        Iris-setosa\n",
            "Name: class, dtype: object\n",
            "\n",
            "First few rows of y_test:\n",
            "73     Iris-versicolor\n",
            "18         Iris-setosa\n",
            "118     Iris-virginica\n",
            "78     Iris-versicolor\n",
            "76     Iris-versicolor\n",
            "Name: class, dtype: object\n"
          ]
        }
      ]
    },
    {
      "cell_type": "code",
      "source": [
        "import numpy as np\n",
        "\n",
        "def euclidean_distance(x1, x2):\n",
        "    return np.sqrt(np.sum((x1 - x2)**2))\n",
        "\n",
        "def predict(X_train, y_train, X_test, k):\n",
        "    y_pred = []\n",
        "\n",
        "    for test_point in X_test:\n",
        "        distances = [euclidean_distance(test_point, train_point) for train_point in X_train]\n",
        "        k_indices = np.argsort(distances)[:k]\n",
        "        k_nearest_labels = [y_train[i] for i in k_indices]\n",
        "\n",
        "        # Convert labels to numerical values\n",
        "        label_mapping = {label: i for i, label in enumerate(np.unique(y_train))}\n",
        "        k_nearest_labels_numeric = [label_mapping[label] for label in k_nearest_labels]\n",
        "\n",
        "        most_common = np.bincount(k_nearest_labels_numeric).argmax()\n",
        "        y_pred.append(list(label_mapping.keys())[list(label_mapping.values()).index(most_common)])\n",
        "\n",
        "    return np.array(y_pred)\n",
        "\n",
        "# Test the model\n",
        "k_values = [1, 3, 5, 7, 9]  # Different values of K to test\n",
        "\n",
        "for k in k_values:\n",
        "    # Predictions for the test set\n",
        "    y_pred = predict(X_train.values, y_train.values, X_test.values, k)\n",
        "\n",
        "    # Calculate accuracy\n",
        "    acc = accuracy(y_test.values, y_pred)\n",
        "    print(f\"\\nAccuracy for k={k}: {acc:.4f}\")\n",
        "\n",
        "    # Confusion matrix\n",
        "    conf_matrix = confusion_matrix(y_test.values, y_pred)\n",
        "    print(f\"Confusion Matrix for k={k}:\\n{conf_matrix}\")\n"
      ],
      "metadata": {
        "colab": {
          "base_uri": "https://localhost:8080/"
        },
        "id": "VJis41TWQt3C",
        "outputId": "302f2ac9-b3aa-4d5d-e7b2-99dc9a10b7f3"
      },
      "execution_count": null,
      "outputs": [
        {
          "output_type": "stream",
          "name": "stdout",
          "text": [
            "\n",
            "Accuracy for k=1: 1.0000\n",
            "Confusion Matrix for k=1:\n",
            "[[10.  0.  0.]\n",
            " [ 0.  9.  0.]\n",
            " [ 0.  0. 11.]]\n",
            "\n",
            "Accuracy for k=3: 1.0000\n",
            "Confusion Matrix for k=3:\n",
            "[[10.  0.  0.]\n",
            " [ 0.  9.  0.]\n",
            " [ 0.  0. 11.]]\n",
            "\n",
            "Accuracy for k=5: 1.0000\n",
            "Confusion Matrix for k=5:\n",
            "[[10.  0.  0.]\n",
            " [ 0.  9.  0.]\n",
            " [ 0.  0. 11.]]\n",
            "\n",
            "Accuracy for k=7: 0.9667\n",
            "Confusion Matrix for k=7:\n",
            "[[10.  0.  0.]\n",
            " [ 0.  8.  1.]\n",
            " [ 0.  0. 11.]]\n",
            "\n",
            "Accuracy for k=9: 1.0000\n",
            "Confusion Matrix for k=9:\n",
            "[[10.  0.  0.]\n",
            " [ 0.  9.  0.]\n",
            " [ 0.  0. 11.]]\n"
          ]
        }
      ]
    },
    {
      "cell_type": "code",
      "source": [
        "import matplotlib.pyplot as plt\n",
        "\n",
        "accuracy_values = []\n",
        "\n",
        "for k in k_values:\n",
        "    y_pred = predict(X_train.values, y_train.values, X_test.values, k)\n",
        "    acc = accuracy(y_test.values, y_pred)\n",
        "    accuracy_values.append(acc)\n",
        "\n",
        "plt.figure(figsize=(10, 6))\n",
        "plt.plot(k_values, accuracy_values, marker='o')\n",
        "plt.xlabel('K')\n",
        "plt.ylabel('Accuracy')\n",
        "plt.title('K vs Accuracy')\n",
        "plt.grid(True)\n",
        "plt.show()\n",
        "\n",
        "max_acc_index = np.argmax(accuracy_values)\n",
        "max_acc_k = k_values[max_acc_index]\n",
        "print(f\"\\nMaximum Accuracy: {accuracy_values[max_acc_index]:.4f} at k = {max_acc_k}\")"
      ],
      "metadata": {
        "colab": {
          "base_uri": "https://localhost:8080/",
          "height": 600
        },
        "id": "UiQO5Cz9RWof",
        "outputId": "06815fb8-0719-4780-eb72-7f8f2a67a474"
      },
      "execution_count": null,
      "outputs": [
        {
          "output_type": "display_data",
          "data": {
            "text/plain": [
              "<Figure size 1000x600 with 1 Axes>"
            ],
            "image/png": "[encoded data removed]"
          },
          "metadata": {}
        },
        {
          "output_type": "stream",
          "name": "stdout",
          "text": [
            "\n",
            "Maximum Accuracy: 1.0000 at k = 1\n"
          ]
        }
      ]
    },
    {
      "cell_type": "code",
      "source": [],
      "metadata": {
        "id": "gQYfIq3_R1xH"
      },
      "execution_count": null,
      "outputs": []
    }
  ]
}