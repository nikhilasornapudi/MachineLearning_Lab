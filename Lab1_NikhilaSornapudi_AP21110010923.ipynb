{
 "cells": [
  {
   "cell_type": "markdown",
   "id": "6dfae842",
   "metadata": {},
   "source": [
    "# Machine Learning Lab-1 - AP21110010923\n",
    "# Introduction To Numpy:                                                                                                 \n",
    "1.Write a NumPy program to multiply two given arrays of same size element-by-\n",
    "element."
   ]
  },
  {
   "cell_type": "code",
   "execution_count": 1,
   "id": "909ed118",
   "metadata": {},
   "outputs": [
    {
     "name": "stdout",
     "output_type": "stream",
     "text": [
      "Array 1: [1 2 3 4]\n",
      "Array 2: [5 6 7 8]\n",
      "Element-wise multiplication result: [ 5 12 21 32]\n"
     ]
    }
   ],
   "source": [
    "import numpy as np\n",
    "\n",
    "array1 = np.array([1, 2, 3, 4])\n",
    "array2 = np.array([5, 6, 7, 8])\n",
    "\n",
    "result_array = np.multiply(array1, array2)\n",
    "\n",
    "print(\"Array 1:\", array1)\n",
    "print(\"Array 2:\", array2)\n",
    "print(\"Element-wise multiplication result:\", result_array)"
   ]
  },
  {
   "cell_type": "markdown",
   "id": "ee21754f",
   "metadata": {},
   "source": [
    "2.Write a NumPy program to find the missing data in a given array."
   ]
  },
  {
   "cell_type": "code",
   "execution_count": 2,
   "id": "6b589f7d",
   "metadata": {},
   "outputs": [
    {
     "name": "stdout",
     "output_type": "stream",
     "text": [
      "Original Array: [ 1.  2. nan  4.  5. nan  7.]\n",
      "Missing Data Mask: [False False  True False False  True False]\n"
     ]
    }
   ],
   "source": [
    "import numpy as np\n",
    "\n",
    "array_with_missing_data = np.array([1.0, 2.0, np.nan, 4.0, 5.0, np.nan, 7.0])\n",
    "\n",
    "missing_data_mask = np.isnan(array_with_missing_data)\n",
    "\n",
    "print(\"Original Array:\", array_with_missing_data)\n",
    "print(\"Missing Data Mask:\", missing_data_mask)"
   ]
  },
  {
   "cell_type": "markdown",
   "id": "5b3da526",
   "metadata": {},
   "source": [
    " - Here, \"np.isnan()\" is used to create a boolean mask (missing_data_mask) indicating the positions of missing data (NaN) in the original array."
   ]
  },
  {
   "cell_type": "markdown",
   "id": "b47c336d",
   "metadata": {},
   "source": [
    "3.Write a NumPy program to test whether each element of a 1-D array is also present in\n",
    "a second array."
   ]
  },
  {
   "cell_type": "code",
   "execution_count": 3,
   "id": "62901fc3",
   "metadata": {},
   "outputs": [
    {
     "name": "stdout",
     "output_type": "stream",
     "text": [
      "Array 1: [1 2 3 4 5]\n",
      "Array 2: [3 5 7 9]\n",
      "Is each element of Array 1 present in Array 2? [False False  True False  True]\n"
     ]
    }
   ],
   "source": [
    "import numpy as np\n",
    "\n",
    "array1 = np.array([1, 2, 3, 4, 5])\n",
    "array2 = np.array([3, 5, 7, 9])\n",
    "\n",
    "result = np.isin(array1, array2)\n",
    "\n",
    "print(\"Array 1:\", array1)\n",
    "print(\"Array 2:\", array2)\n",
    "print(\"Is each element of Array 1 present in Array 2?\", result)"
   ]
  },
  {
   "cell_type": "markdown",
   "id": "80e9a8c7",
   "metadata": {},
   "source": [
    " - Here, \"np.isin()\" function is used to create a boolean array (result) indicating whether each element of array1 is present in array2."
   ]
  },
  {
   "cell_type": "markdown",
   "id": "a3266e50",
   "metadata": {},
   "source": [
    "4.Write a NumPy program to save a NumPy array to a text file."
   ]
  },
  {
   "cell_type": "code",
   "execution_count": 5,
   "id": "867d6376",
   "metadata": {},
   "outputs": [
    {
     "name": "stdout",
     "output_type": "stream",
     "text": [
      "Array has been saved to 'output_array.txt'\n"
     ]
    }
   ],
   "source": [
    "import numpy as np\n",
    "\n",
    "my_array = np.array([[1, 2, 3], [4, 5, 6], [7, 8, 9]])\n",
    "np.savetxt('output_array.txt', my_array, fmt='%d', delimiter=',')\n",
    "\n",
    "print(\"Array has been saved to 'output_array.txt'\")"
   ]
  },
  {
   "cell_type": "markdown",
   "id": "0a990d63",
   "metadata": {},
   "source": [
    " - my_array: This is NumPy array that you save to the text file.\n",
    " - np.savetxt(): This function is used to save an array to a text file.\n",
    " - output_array.txt: This is the file name where the array will be saved with the file name \"output_array.txt\".\n",
    " - fmt='%d: This argument specifies that the data should be formatted as integers.\n",
    " - delimiter=',': This specifies that the values should be separated by commas in the output file."
   ]
  },
  {
   "cell_type": "markdown",
   "id": "cdb89b5e",
   "metadata": {},
   "source": [
    "5.Write a NumPy program to Create a 1-D array of 30 evenly spaced elements between\n",
    "2.5. and 6.5, inclusive."
   ]
  },
  {
   "cell_type": "code",
   "execution_count": 6,
   "id": "5914aed0",
   "metadata": {},
   "outputs": [
    {
     "name": "stdout",
     "output_type": "stream",
     "text": [
      "1-D array of 30 evenly spaced elements between 2.5 and 6.5 (inclusive):\n",
      "[2.5        2.63793103 2.77586207 2.9137931  3.05172414 3.18965517\n",
      " 3.32758621 3.46551724 3.60344828 3.74137931 3.87931034 4.01724138\n",
      " 4.15517241 4.29310345 4.43103448 4.56896552 4.70689655 4.84482759\n",
      " 4.98275862 5.12068966 5.25862069 5.39655172 5.53448276 5.67241379\n",
      " 5.81034483 5.94827586 6.0862069  6.22413793 6.36206897 6.5       ]\n"
     ]
    }
   ],
   "source": [
    "import numpy as np\n",
    "\n",
    "my_array = np.linspace(2.5, 6.5, 30)\n",
    "\n",
    "print(\"1-D array of 30 evenly spaced elements between 2.5 and 6.5 (inclusive):\")\n",
    "print(my_array)"
   ]
  },
  {
   "cell_type": "markdown",
   "id": "6071e094",
   "metadata": {},
   "source": [
    "- Here, \"np.linspace(2.5, 6.5, 30)\" creates an array with 30 evenly spaced elements between 2.5 and 6.5 (inclusive). "
   ]
  },
  {
   "cell_type": "markdown",
   "id": "15b6c463",
   "metadata": {},
   "source": [
    "# Introduction to Pandas (Series and Dataframes)"
   ]
  },
  {
   "cell_type": "markdown",
   "id": "2dc7ea0b",
   "metadata": {},
   "source": [
    "1.Write a Pandas program to convert Series of lists to one Series."
   ]
  },
  {
   "cell_type": "code",
   "execution_count": 7,
   "id": "433d3667",
   "metadata": {},
   "outputs": [
    {
     "name": "stdout",
     "output_type": "stream",
     "text": [
      "Original Series of Lists:\n",
      "0    [1, 2, 3]\n",
      "1       [4, 5]\n",
      "2    [6, 7, 8]\n",
      "dtype: object\n",
      "\n",
      "Converted Series:\n",
      "0    1\n",
      "0    2\n",
      "0    3\n",
      "1    4\n",
      "1    5\n",
      "2    6\n",
      "2    7\n",
      "2    8\n",
      "dtype: object\n"
     ]
    }
   ],
   "source": [
    "import pandas as pd\n",
    "\n",
    "series_of_lists = pd.Series([[1, 2, 3], [4, 5], [6, 7, 8]])\n",
    "\n",
    "result_series = series_of_lists.explode()\n",
    "\n",
    "print(\"Original Series of Lists:\")\n",
    "print(series_of_lists)\n",
    "\n",
    "print(\"\\nConverted Series:\")\n",
    "print(result_series)"
   ]
  },
  {
   "cell_type": "markdown",
   "id": "cb34305c",
   "metadata": {},
   "source": [
    "- Here, \"explode()\" function is used to convert the Series of lists into a single Series. Each element of the original lists is now a separate element in the resulting Series. The index values are repeated as needed to accommodate the exploded elements."
   ]
  },
  {
   "cell_type": "markdown",
   "id": "ae4ced54",
   "metadata": {},
   "source": [
    "2.Write a Pandas program to create a subset of a given series based on value and\n",
    "condition."
   ]
  },
  {
   "cell_type": "code",
   "execution_count": 8,
   "id": "a00b90d7",
   "metadata": {},
   "outputs": [
    {
     "name": "stdout",
     "output_type": "stream",
     "text": [
      "Original Series:\n",
      "0    10\n",
      "1    20\n",
      "2    30\n",
      "3    40\n",
      "4    50\n",
      "dtype: int64\n",
      "\n",
      "Subset based on condition (values greater than 30):\n",
      "3    40\n",
      "4    50\n",
      "dtype: int64\n"
     ]
    }
   ],
   "source": [
    "import pandas as pd\n",
    "\n",
    "my_series = pd.Series([10, 20, 30, 40, 50])\n",
    "condition = my_series > 30\n",
    "subset = my_series[condition]\n",
    "\n",
    "print(\"Original Series:\")\n",
    "print(my_series)\n",
    "\n",
    "print(\"\\nSubset based on condition (values greater than 30):\")\n",
    "print(subset)"
   ]
  },
  {
   "cell_type": "markdown",
   "id": "f4c1da90",
   "metadata": {},
   "source": [
    "- Here,\"(my_series > 30)\" condition is used to create a boolean mask. Then, this boolean mask is applied to the original Series using square brackets to create a subset containing only the elements that satisfy the condition."
   ]
  },
  {
   "cell_type": "markdown",
   "id": "2003aa5c",
   "metadata": {},
   "source": [
    "3.Write a Pandas program to display most frequent value in a given series and replace\n",
    "everything else as 'Other' in the series."
   ]
  },
  {
   "cell_type": "code",
   "execution_count": 13,
   "id": "c483ec13",
   "metadata": {},
   "outputs": [
    {
     "name": "stdout",
     "output_type": "stream",
     "text": [
      "0    Other\n",
      "1    Other\n",
      "2    Other\n",
      "3    Other\n",
      "4    Other\n",
      "5    Other\n",
      "6        4\n",
      "7        4\n",
      "8        4\n",
      "9        4\n",
      "dtype: object\n"
     ]
    }
   ],
   "source": [
    "import pandas as pd\n",
    "\n",
    "my_series = pd.Series([1, 2, 2, 3, 3, 3, 4, 4, 4, 4])\n",
    "most_frequent_value = my_series.mode().iloc[0]\n",
    "my_series = my_series.apply(lambda x: most_frequent_value if x == most_frequent_value else 'Other')\n",
    "\n",
    "print(my_series)"
   ]
  },
  {
   "cell_type": "markdown",
   "id": "61743505",
   "metadata": {},
   "source": [
    "- Here, \"my_series.mode().iloc[0]\" is used to find the most frequent value in the Series. Then, the apply() function is used to replace everything else with 'Other'. The modified Series is printed before and after the replacement"
   ]
  },
  {
   "cell_type": "markdown",
   "id": "a688db87",
   "metadata": {},
   "source": [
    "4.Write a Pandas program to find the positions of numbers that are multiples of 5 of a\n",
    "given series."
   ]
  },
  {
   "cell_type": "code",
   "execution_count": 14,
   "id": "2f540f41",
   "metadata": {},
   "outputs": [
    {
     "name": "stdout",
     "output_type": "stream",
     "text": [
      "Original Series:\n",
      "0     1\n",
      "1     5\n",
      "2    10\n",
      "3    15\n",
      "4    20\n",
      "5    25\n",
      "6    30\n",
      "7    35\n",
      "8    40\n",
      "dtype: int64\n",
      "\n",
      "Positions of numbers that are multiples of 5:\n",
      "Index([1, 2, 3, 4, 5, 6, 7, 8], dtype='int64')\n"
     ]
    }
   ],
   "source": [
    "import pandas as pd\n",
    "\n",
    "my_series = pd.Series([1, 5, 10, 15, 20, 25, 30, 35, 40])\n",
    "\n",
    "positions_of_multiples_of_5 = my_series.index[my_series % 5 == 0]\n",
    "\n",
    "print(\"Original Series:\")\n",
    "print(my_series)\n",
    "\n",
    "print(\"\\nPositions of numbers that are multiples of 5:\")\n",
    "print(positions_of_multiples_of_5)"
   ]
  },
  {
   "cell_type": "markdown",
   "id": "5f863208",
   "metadata": {},
   "source": [
    "- Here, my_series % 5 == 0 creates a boolean mask where each element is True if it is a multiple of 5 and False otherwise. my_series.index[...] is then used to get the positions (indices) of the True values in the mask, which correspond to the positions of numbers that are multiples of 5 in the original Series.\n",
    "\n",
    "\n",
    "\n",
    "\n",
    "\n"
   ]
  },
  {
   "cell_type": "markdown",
   "id": "727a9028",
   "metadata": {},
   "source": [
    "5.Write a Pandas program to calculate the number of characters in each word in a given\n",
    "series."
   ]
  },
  {
   "cell_type": "code",
   "execution_count": 2,
   "id": "35cb70ed",
   "metadata": {},
   "outputs": [
    {
     "name": "stdout",
     "output_type": "stream",
     "text": [
      "Original Series:\n",
      "0     Nikhila\n",
      "1     Anvitha\n",
      "2      Anjana\n",
      "3    Anusetty\n",
      "dtype: object\n",
      "\n",
      "Number of characters in each word:\n",
      "0    7\n",
      "1    7\n",
      "2    6\n",
      "3    8\n",
      "dtype: int64\n"
     ]
    }
   ],
   "source": [
    "import pandas as pd\n",
    "\n",
    "my_series = pd.Series(['Nikhila', 'Anvitha', 'Anjana', 'Anusetty'])\n",
    "word_lengths = my_series.str.len()\n",
    "\n",
    "print(\"Original Series:\")\n",
    "print(my_series)\n",
    "\n",
    "print(\"\\nNumber of characters in each word:\")\n",
    "print(word_lengths)"
   ]
  },
  {
   "cell_type": "markdown",
   "id": "25ee4b66",
   "metadata": {},
   "source": [
    "- Here,my_series.str.len() is used to calculate the length of each word in the Series. The resulting Series (word_lengths) contains the number of characters in each word.\n",
    "\n",
    "\n",
    "\n",
    "\n"
   ]
  },
  {
   "cell_type": "markdown",
   "id": "88638115",
   "metadata": {},
   "source": [
    "6.Write a Pandas program to convert year-month string to dates adding a specified day\n",
    "of the month."
   ]
  },
  {
   "cell_type": "code",
   "execution_count": 16,
   "id": "cdd8f71d",
   "metadata": {},
   "outputs": [
    {
     "name": "stdout",
     "output_type": "stream",
     "text": [
      "  Year-Month String Converted Date\n",
      "0           2022-01     2022-01-06\n",
      "1           2022-02     2022-02-06\n",
      "2           2022-03     2022-03-06\n",
      "3           2022-04     2022-04-06\n"
     ]
    }
   ],
   "source": [
    "import pandas as pd\n",
    "\n",
    "year_month_strings = pd.Series(['2022-01', '2022-02', '2022-03', '2022-04'])\n",
    "specified_day = 6\n",
    "\n",
    "dates_with_specified_day = pd.to_datetime(year_month_strings + '-' + str(specified_day), format='%Y-%m-%d')\n",
    "\n",
    "result_df = pd.DataFrame({\n",
    "    'Year-Month String': year_month_strings,\n",
    "    'Converted Date': dates_with_specified_day\n",
    "})\n",
    "\n",
    "print(result_df)"
   ]
  },
  {
   "cell_type": "markdown",
   "id": "49815ee6",
   "metadata": {},
   "source": [
    "7.Write a Pandas program to create and display a DataFrame from a specified\n",
    "dictionary data which has the index labels."
   ]
  },
  {
   "cell_type": "code",
   "execution_count": 3,
   "id": "8b51d6fc",
   "metadata": {},
   "outputs": [
    {
     "name": "stdout",
     "output_type": "stream",
     "text": [
      "             Name  Age        City\n",
      "Person1   Nikhila   20       India\n",
      "Person2   Anvitha   19       Paris\n",
      "Person3    Anjana   20      Korean\n",
      "Person4  Anusetty   19  California\n"
     ]
    }
   ],
   "source": [
    "import pandas as pd\n",
    "\n",
    "data = {\n",
    "    'Name': ['Nikhila', 'Anvitha', 'Anjana', 'Anusetty'],\n",
    "    'Age': [20, 19, 20, 19],\n",
    "    'City': ['India', 'Paris', 'Korean', 'California']\n",
    "}\n",
    "index_labels = ['Person1', 'Person2', 'Person3', 'Person4']\n",
    "df = pd.DataFrame(data, index=index_labels)\n",
    "\n",
    "print(df)"
   ]
  },
  {
   "cell_type": "markdown",
   "id": "9efa8c31",
   "metadata": {},
   "source": [
    "- Here,'data' dictionary contains columns ('Name', 'Age', 'City'), and index_labels is a list of specified index labels ('Person1', 'Person2', 'Person3', 'Person4'). The DataFrame df is created using pd.DataFrame(data, index=index_labels)."
   ]
  },
  {
   "cell_type": "markdown",
   "id": "c736ace9",
   "metadata": {},
   "source": [
    "8.Write a Pandas program to select the rows where the number of attempts in the\n",
    "examination is greater than 2."
   ]
  },
  {
   "cell_type": "code",
   "execution_count": 4,
   "id": "1b777257",
   "metadata": {},
   "outputs": [
    {
     "name": "stdout",
     "output_type": "stream",
     "text": [
      "Original DataFrame:\n",
      "    Student  Attempts\n",
      "0   Nikhila         1\n",
      "1   Anvitha         4\n",
      "2    Anjana         3\n",
      "3  Anusetty         2\n",
      "\n",
      "Selected rows where the number of attempts is greater than 2:\n",
      "   Student  Attempts\n",
      "1  Anvitha         4\n",
      "2   Anjana         3\n"
     ]
    }
   ],
   "source": [
    "import pandas as pd\n",
    "\n",
    "data = {\n",
    "    'Student': ['Nikhila', 'Anvitha', 'Anjana', 'Anusetty'],\n",
    "    'Attempts': [1, 4, 3, 2]\n",
    "}\n",
    "df = pd.DataFrame(data)\n",
    "selected_rows = df[df['Attempts'] > 2]\n",
    "\n",
    "print(\"Original DataFrame:\")\n",
    "print(df)\n",
    "\n",
    "print(\"\\nSelected rows where the number of attempts is greater than 2:\")\n",
    "print(selected_rows)"
   ]
  },
  {
   "cell_type": "markdown",
   "id": "8e412d7c",
   "metadata": {},
   "source": [
    "-Here,\"df['Attempts'] > 2\"condition creates a boolean mask, and then this mask is used to select the rows where the number of attempts is greater than 2. The resulting DataFrame selected_rows contains only the rows meeting this condition."
   ]
  },
  {
   "cell_type": "markdown",
   "id": "647ea66a",
   "metadata": {},
   "source": [
    "9.Write a Pandas program to append a new row k to data frame with given values for\n",
    "each column. Now delete the new row and return the original DataFrame."
   ]
  },
  {
   "cell_type": "code",
   "execution_count": 5,
   "id": "3e3ba81b",
   "metadata": {},
   "outputs": [
    {
     "name": "stdout",
     "output_type": "stream",
     "text": [
      "DataFrame with New Row:\n",
      "       Name\n",
      "0   Nikhila\n",
      "1   Anvitha\n",
      "2    Anjana\n",
      "3  Anusetty\n",
      "4     Gowri\n",
      "\n",
      "Original DataFrame after Deleting 'Gowri':\n",
      "       Name\n",
      "0   Nikhila\n",
      "1   Anvitha\n",
      "2    Anjana\n",
      "3  Anusetty\n"
     ]
    }
   ],
   "source": [
    "import pandas as pd\n",
    "\n",
    "data = {'Name': ['Nikhila', 'Anvitha', 'Anjana', 'Anusetty']}\n",
    "df = pd.DataFrame(data)\n",
    "\n",
    "new_row_values = {'Name': 'Gowri'}\n",
    "df = pd.concat([df, pd.DataFrame([new_row_values])], ignore_index=True)\n",
    "\n",
    "print(\"DataFrame with New Row:\")\n",
    "print(df)\n",
    "\n",
    "df = df.drop(df[df['Name'] == 'Gowri'].index)\n",
    "\n",
    "print(\"\\nOriginal DataFrame after Deleting 'Gowri':\")\n",
    "print(df)"
   ]
  },
  {
   "cell_type": "markdown",
   "id": "775b4117",
   "metadata": {},
   "source": [
    "- Here, ' pd.concat' to concatenate the original DataFrame with a new DataFrame containing the 'Gowri' row. The ignore_index=True argument is used to reindex the DataFrame. The subsequent steps for dropping the row with the name 'Gowri' remain the same."
   ]
  },
  {
   "cell_type": "markdown",
   "id": "cce0bef5",
   "metadata": {},
   "source": [
    "10.Write a Pandas program to sort the DataFrame first by &#39;name&#39; in descending order,\n",
    "then by 'score' in ascending order."
   ]
  },
  {
   "cell_type": "code",
   "execution_count": 6,
   "id": "9fb382cf",
   "metadata": {},
   "outputs": [
    {
     "name": "stdout",
     "output_type": "stream",
     "text": [
      "DataFrame sorted by 'Name' in descending order, then by 'Score' in ascending order:\n",
      "       Name  Score\n",
      "0   Nikhila     85\n",
      "1   Anvitha     90\n",
      "3  Anusetty     80\n",
      "2    Anjana     75\n"
     ]
    }
   ],
   "source": [
    "import pandas as pd\n",
    "\n",
    "data = {\n",
    "    'Name': ['Nikhila', 'Anvitha', 'Anjana', 'Anusetty'],\n",
    "    'Score': [85, 90, 75, 80]\n",
    "}\n",
    "df = pd.DataFrame(data)\n",
    "df_sorted = df.sort_values(by=['Name', 'Score'], ascending=[False, True])\n",
    "\n",
    "print(\"DataFrame sorted by 'Name' in descending order, then by 'Score' in ascending order:\")\n",
    "print(df_sorted)"
   ]
  },
  {
   "cell_type": "markdown",
   "id": "8703e046",
   "metadata": {},
   "source": [
    "11. Write a Pandas program to replace the 'qualify' column contains the values 'yes' and\n",
    "'no' with True and False."
   ]
  },
  {
   "cell_type": "code",
   "execution_count": 7,
   "id": "da472df5",
   "metadata": {},
   "outputs": [
    {
     "name": "stdout",
     "output_type": "stream",
     "text": [
      "DataFrame after replacing 'qualify' values:\n",
      "       Name  Qualify\n",
      "0   Nikhila     True\n",
      "1   Anvitha    False\n",
      "2    Anjana     True\n",
      "3  Anusetty    False\n"
     ]
    }
   ],
   "source": [
    "import pandas as pd\n",
    "\n",
    "data = {\n",
    "    'Name': ['Nikhila', 'Anvitha', 'Anjana', 'Anusetty'],\n",
    "    'Qualify': ['yes', 'no', 'yes', 'no']\n",
    "}\n",
    "df = pd.DataFrame(data)\n",
    "df['Qualify'] = df['Qualify'].replace({'yes': True, 'no': False})\n",
    "\n",
    "print(\"DataFrame after replacing 'qualify' values:\")\n",
    "print(df)"
   ]
  },
  {
   "cell_type": "markdown",
   "id": "b8bf2e7c",
   "metadata": {},
   "source": [
    "12.Write a Pandas program to remove infinite values from a given DataFrame."
   ]
  },
  {
   "cell_type": "code",
   "execution_count": 8,
   "id": "f635a90b",
   "metadata": {},
   "outputs": [
    {
     "name": "stdout",
     "output_type": "stream",
     "text": [
      "Original DataFrame:\n",
      "       Name  Score\n",
      "0   Nikhila   90.0\n",
      "1   Anvitha    NaN\n",
      "2    Anjana   75.0\n",
      "3  Anusetty    NaN\n",
      "\n",
      "DataFrame after removing infinite values:\n",
      "      Name  Score\n",
      "0  Nikhila   90.0\n",
      "2   Anjana   75.0\n"
     ]
    }
   ],
   "source": [
    "import pandas as pd\n",
    "import numpy as np\n",
    "\n",
    "data = {\n",
    "    'Name': ['Nikhila', 'Anvitha', 'Anjana', 'Anusetty'],\n",
    "    'Score': [90, np.inf, 75, -np.inf]\n",
    "}\n",
    "df = pd.DataFrame(data)\n",
    "df.replace([np.inf, -np.inf], np.nan, inplace=True)\n",
    "df_cleaned = df.dropna()\n",
    "\n",
    "print(\"Original DataFrame:\")\n",
    "print(df)\n",
    "\n",
    "print(\"\\nDataFrame after removing infinite values:\")\n",
    "print(df_cleaned)"
   ]
  },
  {
   "cell_type": "markdown",
   "id": "fd643979",
   "metadata": {},
   "source": [
    "- Here, the replace method is used to replace infinite values (np.inf and -np.inf) with NaN, and then the dropna method is used to remove rows containing NaN values, resulting in a DataFrame without infinite values."
   ]
  }
 ],
 "metadata": {
  "kernelspec": {
   "display_name": "Python 3 (ipykernel)",
   "language": "python",
   "name": "python3"
  },
  "language_info": {
   "codemirror_mode": {
    "name": "ipython",
    "version": 3
   },
   "file_extension": ".py",
   "mimetype": "text/x-python",
   "name": "python",
   "nbconvert_exporter": "python",
   "pygments_lexer": "ipython3",
   "version": "3.11.5"
  }
 },
 "nbformat": 4,
 "nbformat_minor": 5
}
