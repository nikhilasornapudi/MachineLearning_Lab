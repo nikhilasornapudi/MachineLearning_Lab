{
  "nbformat": 4,
  "nbformat_minor": 0,
  "metadata": {
    "colab": {
      "provenance": []
    },
    "kernelspec": {
      "name": "python3",
      "display_name": "Python 3"
    },
    "language_info": {
      "name": "python"
    }
  },
  "cells": [
    {
      "cell_type": "code",
      "execution_count": null,
      "metadata": {
        "id": "Kf_Ggm5NWFoz"
      },
      "outputs": [],
      "source": [
        "import numpy as np"
      ]
    },
    {
      "cell_type": "code",
      "source": [
        "vector = np.array([1, 2, 3, 4, 5])"
      ],
      "metadata": {
        "id": "XkMzpSHoWSou"
      },
      "execution_count": null,
      "outputs": []
    },
    {
      "cell_type": "code",
      "source": [
        "mean = np.mean(vector)"
      ],
      "metadata": {
        "id": "2uuCH_eVWVY3"
      },
      "execution_count": null,
      "outputs": []
    },
    {
      "cell_type": "code",
      "source": [
        "variance = np.var(vector)\n"
      ],
      "metadata": {
        "id": "n5-eLwA5WX-n"
      },
      "execution_count": null,
      "outputs": []
    },
    {
      "cell_type": "code",
      "source": [
        "print(\"Mean:\", mean)\n",
        "print(\"Variance:\", variance)"
      ],
      "metadata": {
        "colab": {
          "base_uri": "https://localhost:8080/"
        },
        "id": "hMCFXlNIWZi6",
        "outputId": "17b63c85-b003-42c4-fcab-ee095b73ac71"
      },
      "execution_count": null,
      "outputs": [
        {
          "output_type": "stream",
          "name": "stdout",
          "text": [
            "Mean: 3.0\n",
            "Variance: 2.0\n"
          ]
        }
      ]
    },
    {
      "cell_type": "code",
      "source": [
        "vector1 = np.array([1, 2, 3])\n",
        "vector2 = np.array([4, 5, 6])"
      ],
      "metadata": {
        "id": "y03U76TQWbFG"
      },
      "execution_count": null,
      "outputs": []
    },
    {
      "cell_type": "code",
      "source": [
        "covariance = np.cov(vector1, vector2, bias=True)[0][1]"
      ],
      "metadata": {
        "id": "Euv0Z1NqWfCe"
      },
      "execution_count": null,
      "outputs": []
    },
    {
      "cell_type": "code",
      "source": [
        "print(\"Covariance:\", covariance)"
      ],
      "metadata": {
        "colab": {
          "base_uri": "https://localhost:8080/"
        },
        "id": "RGmQidTiWg50",
        "outputId": "a72f0882-eed1-41bb-ec55-8525b334fff2"
      },
      "execution_count": null,
      "outputs": [
        {
          "output_type": "stream",
          "name": "stdout",
          "text": [
            "Covariance: 0.6666666666666666\n"
          ]
        }
      ]
    },
    {
      "cell_type": "code",
      "source": [
        "vector3 = np.array([1, 2, 3])\n",
        "vector4 = np.array([4, 5, 6])"
      ],
      "metadata": {
        "id": "wVM71tfJWi3F"
      },
      "execution_count": null,
      "outputs": []
    },
    {
      "cell_type": "code",
      "source": [
        "correlation = np.corrcoef(vector1, vector2)[0][1]\n"
      ],
      "metadata": {
        "id": "a4PQvX8rWmke"
      },
      "execution_count": null,
      "outputs": []
    },
    {
      "cell_type": "code",
      "source": [
        "print(\"Correlation:\", correlation)"
      ],
      "metadata": {
        "colab": {
          "base_uri": "https://localhost:8080/"
        },
        "id": "OoXBtds6Wn-O",
        "outputId": "6113299a-9ce6-44bf-c80d-424c21fe91d9"
      },
      "execution_count": null,
      "outputs": [
        {
          "output_type": "stream",
          "name": "stdout",
          "text": [
            "Correlation: 1.0\n"
          ]
        }
      ]
    },
    {
      "cell_type": "code",
      "source": [
        "matrix = np.array([[1, 2, 3], [4, 5, 6], [7, 8, 9]])\n"
      ],
      "metadata": {
        "id": "nxbMdOUnWpGa"
      },
      "execution_count": null,
      "outputs": []
    },
    {
      "cell_type": "code",
      "source": [
        "cov_matrix = np.cov(matrix, bias=True)"
      ],
      "metadata": {
        "id": "PYWPortRWrE-"
      },
      "execution_count": null,
      "outputs": []
    },
    {
      "cell_type": "code",
      "source": [
        "corr_matrix = np.corrcoef(matrix)"
      ],
      "metadata": {
        "id": "LShbtxieWseD"
      },
      "execution_count": null,
      "outputs": []
    },
    {
      "cell_type": "code",
      "source": [
        "print(\"Covariance Matrix:\\n\", cov_matrix)\n",
        "print(\"Correlation Matrix:\\n\", corr_matrix)"
      ],
      "metadata": {
        "colab": {
          "base_uri": "https://localhost:8080/"
        },
        "id": "ZN4zrESMWtzG",
        "outputId": "1450de74-7e8d-492b-e050-eceaa511dac1"
      },
      "execution_count": null,
      "outputs": [
        {
          "output_type": "stream",
          "name": "stdout",
          "text": [
            "Covariance Matrix:\n",
            " [[0.66666667 0.66666667 0.66666667]\n",
            " [0.66666667 0.66666667 0.66666667]\n",
            " [0.66666667 0.66666667 0.66666667]]\n",
            "Correlation Matrix:\n",
            " [[1. 1. 1.]\n",
            " [1. 1. 1.]\n",
            " [1. 1. 1.]]\n"
          ]
        }
      ]
    }
  ]
}